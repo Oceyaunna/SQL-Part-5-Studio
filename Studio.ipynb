{
    "metadata": {
        "kernelspec": {
            "name": "SQL",
            "display_name": "SQL",
            "language": "sql"
        },
        "language_info": {
            "name": "sql",
            "version": ""
        },
        "extensions": {
            "azuredatastudio": {
                "version": 1,
                "views": []
            }
        }
    },
    "nbformat_minor": 2,
    "nbformat": 4,
    "cells": [
        {
            "cell_type": "markdown",
            "source": [
                "# Lesson 14 Studio:  A Library Service\n",
                "\n",
                "## Setting Up Your Data\n",
                "\n",
                "You will be creating 5 new tables within your own schema.\n",
                "\n",
                "4 of the tables can be populated using the starter code which can be found in the folder \"[Starter Code](https://github.com/speudusa/SQL-Part-5-Studio/tree/master/Starter%20Code)\" in the studio GitHub repository. \n",
                "\n",
                "After setting up the data you should have the following five tables:\n",
                "\n",
                "1. book\n",
                "2. author\n",
                "3. patron\n",
                "4. genre\n",
                "5. loan"
            ],
            "metadata": {
                "azdata_cell_guid": "928fed11-edfb-4971-8795-99e1a2479024"
            },
            "attachments": {}
        },
        {
            "cell_type": "markdown",
            "source": [
                "## **Part A: Setting Up Your Tables**\n",
                "\n",
                "### **Book Table**\n",
                "\n",
                "To create the **book** table, you can use the following SQL query:\n",
                "\n",
                "```\n",
                "CREATE TABLE [DB].[schema].book (\n",
                "    book_id INT IDENTITY(1,1) PRIMARY KEY, \n",
                "    author_id INT,\n",
                "    title VARCHAR(255),\n",
                "    isbn INT,\n",
                "    available BIT,\n",
                "    genre_id INT\n",
                ");\n",
                "```\n",
                "\n",
                "_A few notes on this syntax:_\n",
                "\n",
                "> On Auto-incrementing:\n",
                "> \n",
                "> We are going to have SQL help us assign book\\_id numbers using auto-incrementing using the **IDENTITY** property.\n",
                "> \n",
                "> The [IDENTITY](https://docs.microsoft.com/en-us/sql/t-sql/statements/create-table-transact-sql-identity-property?view=sql-server-ver15) syntax is as follows: **IDENTITY(seed, increment)**.  We want to seed the first id number as 1 in this table and increment by 1 for each following book\\_id.\n",
                "\n",
                "> On BIT datatypes:\n",
                "> \n",
                "> For the **available** column, we are going to use the [BIT datatype](https://docs.microsoft.com/en-us/sql/t-sql/data-types/bit-transact-sql?view=sql-server-ver15) to represent True or False values.  Bit allows three entries: 0 which will stand for false,  1 which will stand for true,  and NULL.\n",
                "\n",
                "> On CREATE TABLES:\n",
                "> \n",
                "> You may only create a table once.  You may comment out your creation query once you run it."
            ],
            "metadata": {
                "azdata_cell_guid": "3cd07164-2b30-427a-9b61-2889c08cdf24"
            },
            "attachments": {}
        },
        {
            "cell_type": "code",
            "source": [
                "-- Create the book table here.  Update the name of the database and schema.\n",
                ""
            ],
            "metadata": {
                "azdata_cell_guid": "754ed0e1-18d8-4a12-ac6c-c19d7f671a0d",
                "tags": [
                    "hide_input"
                ]
            },
            "outputs": [],
            "execution_count": null
        },
        {
            "cell_type": "markdown",
            "source": [
                "### Populate the **book** table.\n",
                "\n",
                "For the starter data, use the [book\\_data.ipynb notebook](https://github.com/speudusa/SQL-Part-5-Studio/tree/master/Starter%20Code).\n",
                "\n",
                "> You may copy/paste the commands into the next code block.  You will need to update each INSERT statement to contain the names of your database and schema."
            ],
            "metadata": {
                "azdata_cell_guid": "8a158f8e-a006-4b9c-a5b0-8dca2c8ed558"
            },
            "attachments": {}
        },
        {
            "cell_type": "code",
            "source": [
                "-- Paste the book data values in this code box.  Be sure to update database and schema names.\n",
                ""
            ],
            "metadata": {
                "azdata_cell_guid": "1abb744a-1418-4a8a-83c6-837676f6f47b",
                "tags": []
            },
            "outputs": [],
            "execution_count": null
        },
        {
            "cell_type": "markdown",
            "source": [
                "### Test your data.  \n",
                "\n",
                "Run a quick query of your choice to see if the book table was properly created."
            ],
            "metadata": {
                "azdata_cell_guid": "1fe68960-aaec-456d-bbd9-4e00d73f542d"
            },
            "attachments": {}
        },
        {
            "cell_type": "code",
            "source": [
                "-- test your book table here."
            ],
            "metadata": {
                "azdata_cell_guid": "b0d6fa80-cde5-46d3-a2c2-d93dbfb1805f"
            },
            "outputs": [],
            "execution_count": null
        },
        {
            "cell_type": "markdown",
            "source": [
                "We will repeat a similar process for the **author, patron,** and **genre** tables. \n",
                "\n",
                "### **Author Table**\n",
                "\n",
                "To create the **author** table, you will use the following code:\n",
                "\n",
                "```\n",
                "CREATE TABLE [DB].[schema].author (\n",
                "    author_id INT IDENTITY(1,1), PRIMARY KEY\n",
                "    first_name VARCHAR(255),\n",
                "    last_name VARCHAR(255),\n",
                "    birth_year INT,\n",
                "    death_year INT\n",
                ");\n",
                "```"
            ],
            "metadata": {
                "azdata_cell_guid": "b63ee318-4506-48f1-adb1-267925282624"
            },
            "attachments": {}
        },
        {
            "cell_type": "code",
            "source": [
                "-- create the author table here:\n",
                ""
            ],
            "metadata": {
                "azdata_cell_guid": "c3903edb-35bf-4806-b554-ecbf3736b7bf"
            },
            "outputs": [],
            "execution_count": null
        },
        {
            "cell_type": "markdown",
            "source": [
                "Populate the **author** table with the [author\\_data.ipynb](https://github.com/speudusa/SQL-Part-5-Studio/tree/master/Starter%20Code)."
            ],
            "metadata": {
                "azdata_cell_guid": "80c74052-6126-4ebd-90fb-4fd6720c79ac"
            },
            "attachments": {}
        },
        {
            "cell_type": "code",
            "source": [
                "-- paste the author data values in this code."
            ],
            "metadata": {
                "azdata_cell_guid": "2f7ea794-a4a0-4b28-ba15-20e07065dc84"
            },
            "outputs": [],
            "execution_count": null
        },
        {
            "cell_type": "markdown",
            "source": [
                "### **Patron Table**\n",
                "\n",
                "To create the **patron**, you will use the following code:\n",
                "\n",
                "```\n",
                "CREATE TABLE [DB].[schema].patron (\n",
                "    patron_id INT IDENTITY (1,1) PRIMARY KEY,\n",
                "    first_name VARCHAR(255),\n",
                "    last_name VARCHAR(255),\n",
                "    loan_id INT\n",
                ");\n",
                "```"
            ],
            "metadata": {
                "azdata_cell_guid": "a530aabe-e455-4369-8c06-db0e6001388c"
            },
            "attachments": {}
        },
        {
            "cell_type": "code",
            "source": [
                "-- create the patron table here:"
            ],
            "metadata": {
                "azdata_cell_guid": "864ecf06-5b94-4bcc-b281-6ab9b65a2343"
            },
            "outputs": [],
            "execution_count": null
        },
        {
            "cell_type": "markdown",
            "source": [
                "Populate the **patron** table with the [patron\\_data.ipynb](https://github.com/speudusa/SQL-Part-5-Studio/tree/master/Starter%20Code) notebook."
            ],
            "metadata": {
                "azdata_cell_guid": "48f1e14c-8d2a-458c-8c75-4223fd5344ba"
            },
            "attachments": {}
        },
        {
            "cell_type": "code",
            "source": [
                "-- insert patron data into the table here:\n",
                ""
            ],
            "metadata": {
                "azdata_cell_guid": "8aa02813-50d7-4c02-9c0f-cf5da207a0b1",
                "tags": [
                    "hide_input"
                ]
            },
            "outputs": [],
            "execution_count": null
        },
        {
            "cell_type": "markdown",
            "source": [
                "### **Genre Table**\n",
                "\n",
                "To create the **genre** table, use the following code:\n",
                "\n",
                "```\n",
                "CREATE TABLE [DB].[schema].genre (\n",
                "    genre_id INT PRIMARY KEY,\n",
                "    genres VARCHAR(100)\n",
                ");\n",
                "```"
            ],
            "metadata": {
                "azdata_cell_guid": "d7e74ee6-1ca3-4e79-beb5-04543b03b7cf"
            },
            "attachments": {}
        },
        {
            "cell_type": "code",
            "source": [
                "-- create genre table here:"
            ],
            "metadata": {
                "azdata_cell_guid": "90f553ee-b7e8-4509-8ac7-bf81c0b42158"
            },
            "outputs": [],
            "execution_count": null
        },
        {
            "cell_type": "markdown",
            "source": [
                "Populate the **genre** table with the [genre\\_data.ipybn](https://github.com/speudusa/SQL-Part-5-Studio/tree/master/Starter%20Code) notebook."
            ],
            "metadata": {
                "azdata_cell_guid": "ed09922e-5d4f-437a-97c6-9bb052839503"
            },
            "attachments": {}
        },
        {
            "cell_type": "code",
            "source": [
                "-- insert the genre data into the table here:"
            ],
            "metadata": {
                "azdata_cell_guid": "d21f25bc-3bc0-4c48-932f-728fdc2c0f1b"
            },
            "outputs": [],
            "execution_count": null
        },
        {
            "cell_type": "markdown",
            "source": [
                "### **Loan Table**\n",
                "\n",
                "The **loan** table will be created differently and will stay empty.  We will use our other tables to populate the loan table using queries shortly.  \n",
                "\n",
                "Use the following code to create the **loan** table:\n",
                "\n",
                "```\n",
                "CREATE TABLE [DB].[schema].loan (\n",
                "    loan_id INT IDENTITY(1,1) PRIMARY KEY,\n",
                "    patron_id INT,\n",
                "    date_out DATE,\n",
                "    date_in DATE,\n",
                "    book_id INT\n",
                "    CONSTRAINT book_id FOREIGN KEY (book_id) REFERENCES [DB].[schema].book (book_id)\n",
                "        ON UPDATE SET NULL\n",
                "        ON DELETE SET NULL\n",
                ");\n",
                "```\n",
                "\n",
                "_Notes about the syntax:_\n",
                "\n",
                "> We are adding a [foreign key](https://www.w3schools.com/sql/sql_foreignkey.asp) to this table to reference a different table's primary key.  In this studio, we are going to link the **loan** table to the **book** table using keys.  The **loan** table will reference and add book id numbers based on the **book** table's book\\_id.  We are also providing [constraints](https://www.w3schools.com/sql/sql_constraints.asp) to be very specific about what type of data is allowed in this column."
            ],
            "metadata": {
                "azdata_cell_guid": "111aa17f-6295-4780-b56a-c580951ba446"
            },
            "attachments": {}
        },
        {
            "cell_type": "code",
            "source": [
                "-- Code the loan table.  \n",
                "-- Note that you will need to update the first and seventh lines with your database and schema info.\n",
                ""
            ],
            "metadata": {
                "azdata_cell_guid": "0c02072d-832a-44bb-aa28-c8e273cc930a"
            },
            "outputs": [],
            "execution_count": null
        },
        {
            "cell_type": "markdown",
            "source": [
                ""
            ],
            "metadata": {
                "azdata_cell_guid": "7b8490ca-1d4f-4beb-837d-7ef1ee681865"
            },
            "attachments": {}
        },
        {
            "cell_type": "markdown",
            "source": [
                "## **Part B: Warm-Up Queries**\n",
                "\n",
                "Write the following queries to get warmed up and make sure your tables have populated appropriately. \n",
                "\n",
                "1. Return the mystery book titles and their ISBNs.  \n",
                "      \n",
                "    \n",
                "2. Return all of the titles and the author's first and last names for books written by authors who are currently living."
            ],
            "metadata": {
                "azdata_cell_guid": "c52719ab-94f3-4eff-97fa-1f928892ef3b"
            },
            "attachments": {}
        },
        {
            "cell_type": "code",
            "source": [
                "--Code your warm ups here:"
            ],
            "metadata": {
                "azdata_cell_guid": "95590c74-e772-4e0e-b35d-346409d9d4c0"
            },
            "outputs": [],
            "execution_count": null
        },
        {
            "cell_type": "markdown",
            "source": [
                "## **Part C: Loan Out a Book**\n",
                "\n",
                "The library would like you to create a query that will update the database when a book is loaned out.  \n",
                "\n",
                "This query needs to perform the following functions:\n",
                "\n",
                "1. Change **available** to **0** (false) for the appropriate book.\n",
                "    \n",
                "2. Add a new row to the **loan** table with today's date as the **date\\_out** and the ids in the row matching the appropriate **patron\\_id** and **book\\_id**.\n",
                "    \n",
                "3. Update the appropriate **patron** with the **loan\\_id** for the new row created in the **loan** table.\n",
                "    \n",
                "\n",
                "You can use any patron and book that strikes your fancy to create and test out this query.'\n",
                "\n",
                "> _Note:  Every time you test this, you will add an additional row to the output, creating a new loan id each time.  If you do not update the patron id, then a patron will have multiple loan ids.  This is not an issue for Part C;_ _however, this may cause issues when you work on Part F._"
            ],
            "metadata": {
                "azdata_cell_guid": "89fcab58-413b-4a19-99f2-6c3a7f880f9f"
            },
            "attachments": {}
        },
        {
            "cell_type": "code",
            "source": [
                "-- Create your query that will Loan Out a Book:"
            ],
            "metadata": {
                "azdata_cell_guid": "372104fd-303e-4be3-8b85-d4e4902fe9d9"
            },
            "outputs": [],
            "execution_count": null
        },
        {
            "cell_type": "markdown",
            "source": [
                "## **Part D: Check a Book Back In**\n",
                "\n",
                "Work with the same patron and book as you create your query to check a book back into the library.\n",
                "\n",
                "The check a book back in, your query need to do the following:\n",
                "\n",
                "1. Change **available** to **1** (true) for the appropriate book.\n",
                "    \n",
                "2. Update the appropriate row in the **loan** table with today's date as the **date\\_in**.\n",
                "    \n",
                "3. Update the appropriate **patron** changing **loan\\_id** back to **NULL**.\n",
                "    \n",
                "\n",
                "Once you have created these queries, loan out 5 new books to 5 different patrons."
            ],
            "metadata": {
                "azdata_cell_guid": "21923b69-f92c-4f86-af0a-230df894c696"
            },
            "attachments": {}
        },
        {
            "cell_type": "code",
            "source": [
                "-- Create your Check a Book Back In query:\n",
                ""
            ],
            "metadata": {
                "azdata_cell_guid": "80a81994-48b8-4b9e-a09c-5124e3fc85b2"
            },
            "outputs": [],
            "execution_count": null
        },
        {
            "cell_type": "markdown",
            "source": [
                "## **Part E: Create a temp table**\n",
                "\n",
                "Write a query that returns a temporary table for a patron that shows them all of their loans.\n",
                "\n",
                "_Question to think about:_  Why might a temp table be a good option for this type of query?"
            ],
            "metadata": {
                "azdata_cell_guid": "66e2b5be-ddbf-44db-a903-2c2f08db02d3"
            },
            "attachments": {}
        },
        {
            "cell_type": "code",
            "source": [
                "-- Code your temp table here"
            ],
            "metadata": {
                "azdata_cell_guid": "0977ab8b-f0dd-42e5-aed8-79b511dda8bc"
            },
            "outputs": [],
            "execution_count": null
        },
        {
            "cell_type": "markdown",
            "source": [
                "## **Part F: Wrap-up Query**\n",
                "\n",
                "Create a query that returns the names of the patrons with the genre of every book they currently have checked out.\n",
                "\n",
                "Things to consider:  How are these tables related and connected to each other?\n",
                "\n",
                "> _Note:  If you find a NULL in your output instead of a loan id,   this is likely because there are multiple loans per patron.  Try_ _clearing out the loan table.  You can do this by either dropping the entire table or clearing specific rows._"
            ],
            "metadata": {
                "azdata_cell_guid": "9e29f561-1501-45ac-b6cf-f2136fe5097f"
            },
            "attachments": {}
        },
        {
            "cell_type": "code",
            "source": [
                "-- Create your Wrap-Up query here:"
            ],
            "metadata": {
                "azdata_cell_guid": "c568e7c2-283b-43ab-bf66-8982117c181b"
            },
            "outputs": [],
            "execution_count": null
        },
        {
            "cell_type": "markdown",
            "source": [
                "## **Bonus Challenge:**\n",
                "\n",
                "This is an optional challenge.\n",
                "\n",
                "Create a new table for reference materials using the following code:\n",
                "\n",
                "```\n",
                "CREATE TABLE [DB].[schema].reference_books (\n",
                "    reference_id INT IDENTITY(1,1) PRIMARY KEY,\n",
                "    edition INT,\n",
                "    book_id INT,\n",
                "    book_id INT FOREIGN KEY REFERENCES [DB].[schema].book(book_id)\n",
                "        ON UPDATE SET NULL\n",
                "        ON DELETE SET NULL\n",
                ");\n",
                "```\n",
                "\n",
                "Fill the table with the following query:\n",
                "\n",
                "```\n",
                "INSERT INTO [DB].[schema].reference_books (edition, book_id)\n",
                "VALUE (5,32);\n",
                "```"
            ],
            "metadata": {
                "azdata_cell_guid": "863f5070-2fd7-4dfa-aaf8-dfc148362cec"
            },
            "attachments": {}
        },
        {
            "cell_type": "code",
            "source": [
                "-- Create and fill your reference table here:\n",
                ""
            ],
            "metadata": {
                "azdata_cell_guid": "b7699c0f-e06b-429b-bd94-9cca18968797"
            },
            "outputs": [],
            "execution_count": null
        },
        {
            "cell_type": "markdown",
            "source": [
                "<span style=\"font-size: 14px; font-family: -apple-system, BlinkMacSystemFont, sans-serif;\">A reference book cannot leave the library.&nbsp; How would you modify either the <b>reference_book</b> table or the <b>book</b> table to make sure that doesn't happen?&nbsp; Try to apply your modifications.</span>"
            ],
            "metadata": {
                "azdata_cell_guid": "e647d002-c3ae-415c-9fb3-c2e8c7e5ec7f"
            },
            "attachments": {}
        },
        {
            "cell_type": "code",
            "source": [
                "-- Code your query here:"
            ],
            "metadata": {
                "azdata_cell_guid": "f8c66034-a75e-4fd3-96ac-50e25fd73263"
            },
            "outputs": [],
            "execution_count": null
        }
    ]
}